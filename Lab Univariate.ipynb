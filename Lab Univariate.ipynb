{
 "cells": [
  {
   "cell_type": "code",
   "execution_count": 3,
   "metadata": {},
   "outputs": [],
   "source": [
    "import pandas as pd\n",
    "import matplotlib.pyplot as plt\n",
    "import seaborn as sns\n",
    "import numpy as np\n",
    "\n",
    "%matplotlib inline"
   ]
  },
  {
   "cell_type": "code",
   "execution_count": 4,
   "metadata": {},
   "outputs": [],
   "source": [
    "df = pd.read_csv('/Users/Barbara/Desktop/Ironhack/Datasets/Amazon/amz_uk_price_prediction_dataset.csv')"
   ]
  },
  {
   "cell_type": "code",
   "execution_count": 5,
   "metadata": {},
   "outputs": [
    {
     "data": {
      "text/html": [
       "<div>\n",
       "<style scoped>\n",
       "    .dataframe tbody tr th:only-of-type {\n",
       "        vertical-align: middle;\n",
       "    }\n",
       "\n",
       "    .dataframe tbody tr th {\n",
       "        vertical-align: top;\n",
       "    }\n",
       "\n",
       "    .dataframe thead th {\n",
       "        text-align: right;\n",
       "    }\n",
       "</style>\n",
       "<table border=\"1\" class=\"dataframe\">\n",
       "  <thead>\n",
       "    <tr style=\"text-align: right;\">\n",
       "      <th></th>\n",
       "      <th>uid</th>\n",
       "      <th>asin</th>\n",
       "      <th>title</th>\n",
       "      <th>stars</th>\n",
       "      <th>reviews</th>\n",
       "      <th>price</th>\n",
       "      <th>isBestSeller</th>\n",
       "      <th>boughtInLastMonth</th>\n",
       "      <th>category</th>\n",
       "    </tr>\n",
       "  </thead>\n",
       "  <tbody>\n",
       "    <tr>\n",
       "      <th>0</th>\n",
       "      <td>1</td>\n",
       "      <td>B09B96TG33</td>\n",
       "      <td>Echo Dot (5th generation, 2022 release) | Big ...</td>\n",
       "      <td>4.7</td>\n",
       "      <td>15308</td>\n",
       "      <td>21.99</td>\n",
       "      <td>False</td>\n",
       "      <td>0</td>\n",
       "      <td>Hi-Fi Speakers</td>\n",
       "    </tr>\n",
       "    <tr>\n",
       "      <th>1</th>\n",
       "      <td>2</td>\n",
       "      <td>B01HTH3C8S</td>\n",
       "      <td>Anker Soundcore mini, Super-Portable Bluetooth...</td>\n",
       "      <td>4.7</td>\n",
       "      <td>98099</td>\n",
       "      <td>23.99</td>\n",
       "      <td>True</td>\n",
       "      <td>0</td>\n",
       "      <td>Hi-Fi Speakers</td>\n",
       "    </tr>\n",
       "    <tr>\n",
       "      <th>2</th>\n",
       "      <td>3</td>\n",
       "      <td>B09B8YWXDF</td>\n",
       "      <td>Echo Dot (5th generation, 2022 release) | Big ...</td>\n",
       "      <td>4.7</td>\n",
       "      <td>15308</td>\n",
       "      <td>21.99</td>\n",
       "      <td>False</td>\n",
       "      <td>0</td>\n",
       "      <td>Hi-Fi Speakers</td>\n",
       "    </tr>\n",
       "    <tr>\n",
       "      <th>3</th>\n",
       "      <td>4</td>\n",
       "      <td>B09B8T5VGV</td>\n",
       "      <td>Echo Dot with clock (5th generation, 2022 rele...</td>\n",
       "      <td>4.7</td>\n",
       "      <td>7205</td>\n",
       "      <td>31.99</td>\n",
       "      <td>False</td>\n",
       "      <td>0</td>\n",
       "      <td>Hi-Fi Speakers</td>\n",
       "    </tr>\n",
       "    <tr>\n",
       "      <th>4</th>\n",
       "      <td>5</td>\n",
       "      <td>B09WX6QD65</td>\n",
       "      <td>Introducing Echo Pop | Full sound compact Wi-F...</td>\n",
       "      <td>4.6</td>\n",
       "      <td>1881</td>\n",
       "      <td>17.99</td>\n",
       "      <td>False</td>\n",
       "      <td>0</td>\n",
       "      <td>Hi-Fi Speakers</td>\n",
       "    </tr>\n",
       "  </tbody>\n",
       "</table>\n",
       "</div>"
      ],
      "text/plain": [
       "   uid        asin                                              title  stars  \\\n",
       "0    1  B09B96TG33  Echo Dot (5th generation, 2022 release) | Big ...    4.7   \n",
       "1    2  B01HTH3C8S  Anker Soundcore mini, Super-Portable Bluetooth...    4.7   \n",
       "2    3  B09B8YWXDF  Echo Dot (5th generation, 2022 release) | Big ...    4.7   \n",
       "3    4  B09B8T5VGV  Echo Dot with clock (5th generation, 2022 rele...    4.7   \n",
       "4    5  B09WX6QD65  Introducing Echo Pop | Full sound compact Wi-F...    4.6   \n",
       "\n",
       "   reviews  price  isBestSeller  boughtInLastMonth        category  \n",
       "0    15308  21.99         False                  0  Hi-Fi Speakers  \n",
       "1    98099  23.99          True                  0  Hi-Fi Speakers  \n",
       "2    15308  21.99         False                  0  Hi-Fi Speakers  \n",
       "3     7205  31.99         False                  0  Hi-Fi Speakers  \n",
       "4     1881  17.99         False                  0  Hi-Fi Speakers  "
      ]
     },
     "execution_count": 5,
     "metadata": {},
     "output_type": "execute_result"
    }
   ],
   "source": [
    "df.head()"
   ]
  },
  {
   "cell_type": "code",
   "execution_count": 6,
   "metadata": {},
   "outputs": [
    {
     "data": {
      "text/plain": [
       "(2443651, 9)"
      ]
     },
     "execution_count": 6,
     "metadata": {},
     "output_type": "execute_result"
    }
   ],
   "source": [
    "df.shape"
   ]
  },
  {
   "cell_type": "code",
   "execution_count": 7,
   "metadata": {},
   "outputs": [],
   "source": [
    "# Part 1: Understanding Product Categories\n",
    "# Business Question: What are the most popular product categories on Amazon UK, \n",
    "# and how do they compare in terms of listing frequency?\n",
    "\n",
    "#Frequency Tables:\n",
    "\n",
    "#Generate a frequency table for the product category.\n",
    "#Which are the top 5 most listed product categories?\n",
    "#Visualizations:\n",
    "\n",
    "#Display the distribution of products across different categories using a bar chart. \n",
    "#If you face problems understanding the chart, do it for a subset of top categories.\n",
    "#For a subset of top categories, visualize their proportions using a pie chart. \n",
    "#Does any category dominate the listings?"
   ]
  },
  {
   "cell_type": "code",
   "execution_count": 8,
   "metadata": {},
   "outputs": [
    {
     "data": {
      "text/plain": [
       "category\n",
       "Sports & Outdoors                         836265\n",
       "Beauty                                     19312\n",
       "Handmade Clothing, Shoes & Accessories     19229\n",
       "Bath & Body                                19092\n",
       "Birthday Gifts                             18978\n",
       "                                           ...  \n",
       "Alexa Built-In Devices                       107\n",
       "Motorbike Chassis                            107\n",
       "Plugs                                        107\n",
       "Smart Home Security & Lighting               104\n",
       "Smart Speakers                                54\n",
       "Name: count, Length: 296, dtype: int64"
      ]
     },
     "execution_count": 8,
     "metadata": {},
     "output_type": "execute_result"
    }
   ],
   "source": [
    "category_frequency = df['category'].value_counts() \n",
    "category_frequency"
   ]
  },
  {
   "cell_type": "code",
   "execution_count": 9,
   "metadata": {},
   "outputs": [],
   "source": [
    "top_categories = category_frequency.head(5)"
   ]
  },
  {
   "cell_type": "code",
   "execution_count": 10,
   "metadata": {},
   "outputs": [
    {
     "name": "stderr",
     "output_type": "stream",
     "text": [
      "/var/folders/4m/3s41hz7j7w53zsc7fm9h_6q80000gn/T/ipykernel_23280/3686336145.py:1: FutureWarning: \n",
      "\n",
      "Passing `palette` without assigning `hue` is deprecated and will be removed in v0.14.0. Assign the `y` variable to `hue` and set `legend=False` for the same effect.\n",
      "\n",
      "  sns.barplot(x=top_categories.values, y=top_categories.index, palette=\"Greens\");\n"
     ]
    },
    {
     "data": {
      "image/png": "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",
      "text/plain": [
       "<Figure size 640x480 with 1 Axes>"
      ]
     },
     "metadata": {},
     "output_type": "display_data"
    }
   ],
   "source": [
    "sns.barplot(x=top_categories.values, y=top_categories.index, palette=\"Greens\");"
   ]
  },
  {
   "cell_type": "code",
   "execution_count": 11,
   "metadata": {},
   "outputs": [
    {
     "data": {
      "text/plain": [
       "<Axes: ylabel='count'>"
      ]
     },
     "execution_count": 11,
     "metadata": {},
     "output_type": "execute_result"
    },
    {
     "data": {
      "image/png": "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",
      "text/plain": [
       "<Figure size 640x480 with 1 Axes>"
      ]
     },
     "metadata": {},
     "output_type": "display_data"
    }
   ],
   "source": [
    "top_categories.plot.pie(autopct='%1.1f%%', startangle=90, colors=sns.color_palette(\"Set3\"))"
   ]
  },
  {
   "cell_type": "code",
   "execution_count": 12,
   "metadata": {},
   "outputs": [],
   "source": [
    "#Part 2: Delving into Product Pricing\n",
    "#Business Question: How are products priced on Amazon UK, \n",
    "#and are there specific price points or ranges that are more common?\n",
    "\n",
    "#Measures of Centrality:\n",
    "#Calculate the mean, median, and mode for the price of products.\n",
    "#What's the average price point of products listed? \n",
    "#How does this compare with the most common price point (mode)?\n",
    "\n",
    "#Measures of Dispersion:\n",
    "\n",
    "#Determine the variance, standard deviation, range, and interquartile range for product price.\n",
    "#How varied are the product prices? Are there any indicators of a significant spread in prices?\n",
    "\n",
    "#Visualizations:\n",
    "\n",
    "#Is there a specific price range where most products fall? \n",
    "#Plot a histogram to visualize the distribution of product prices. \n",
    "#If its hard to read these diagrams, think why this is, and explain how it could be solved..\n",
    "#Are there products that are priced significantly higher than the rest? \n",
    "#Use a box plot to showcase the spread and potential outliers in product pricing."
   ]
  },
  {
   "cell_type": "code",
   "execution_count": 13,
   "metadata": {},
   "outputs": [
    {
     "data": {
      "text/plain": [
       "price\n",
       "9.99       48922\n",
       "12.99      38823\n",
       "8.99       34058\n",
       "7.99       33632\n",
       "14.99      32570\n",
       "           ...  \n",
       "2398.99        1\n",
       "1453.08        1\n",
       "1785.63        1\n",
       "1347.36        1\n",
       "317.34         1\n",
       "Name: count, Length: 82916, dtype: int64"
      ]
     },
     "execution_count": 13,
     "metadata": {},
     "output_type": "execute_result"
    }
   ],
   "source": [
    "df.price.value_counts()"
   ]
  },
  {
   "cell_type": "code",
   "execution_count": 14,
   "metadata": {},
   "outputs": [
    {
     "data": {
      "text/plain": [
       "89.24380943923663"
      ]
     },
     "execution_count": 14,
     "metadata": {},
     "output_type": "execute_result"
    }
   ],
   "source": [
    "df.price.mean()"
   ]
  },
  {
   "cell_type": "code",
   "execution_count": 15,
   "metadata": {},
   "outputs": [
    {
     "data": {
      "text/plain": [
       "19.09"
      ]
     },
     "execution_count": 15,
     "metadata": {},
     "output_type": "execute_result"
    }
   ],
   "source": [
    "df.price.median()"
   ]
  },
  {
   "cell_type": "code",
   "execution_count": 16,
   "metadata": {},
   "outputs": [
    {
     "data": {
      "text/plain": [
       "0    9.99\n",
       "Name: price, dtype: float64"
      ]
     },
     "execution_count": 16,
     "metadata": {},
     "output_type": "execute_result"
    }
   ],
   "source": [
    "df.price.mode()"
   ]
  },
  {
   "cell_type": "code",
   "execution_count": 17,
   "metadata": {},
   "outputs": [],
   "source": [
    "#it is a right-skewed distribution"
   ]
  },
  {
   "cell_type": "code",
   "execution_count": 18,
   "metadata": {},
   "outputs": [
    {
     "data": {
      "text/plain": [
       "345.60886175349884"
      ]
     },
     "execution_count": 18,
     "metadata": {},
     "output_type": "execute_result"
    }
   ],
   "source": [
    "df.price.std()"
   ]
  },
  {
   "cell_type": "code",
   "execution_count": 19,
   "metadata": {},
   "outputs": [
    {
     "data": {
      "text/plain": [
       "119445.48532254907"
      ]
     },
     "execution_count": 19,
     "metadata": {},
     "output_type": "execute_result"
    }
   ],
   "source": [
    "df.price.var()"
   ]
  },
  {
   "cell_type": "code",
   "execution_count": 20,
   "metadata": {},
   "outputs": [],
   "source": [
    "min_price = df['price'].min()\n",
    "max_price = df['price'].max()\n",
    "range_price = max_price - min_price\n",
    "quantiles_price = df['price'].quantile([0.25, 0.5, 0.75])"
   ]
  },
  {
   "cell_type": "code",
   "execution_count": null,
   "metadata": {},
   "outputs": [],
   "source": []
  },
  {
   "cell_type": "code",
   "execution_count": 21,
   "metadata": {},
   "outputs": [
    {
     "data": {
      "text/plain": [
       "100000.0"
      ]
     },
     "execution_count": 21,
     "metadata": {},
     "output_type": "execute_result"
    }
   ],
   "source": [
    "range_price"
   ]
  },
  {
   "cell_type": "code",
   "execution_count": 22,
   "metadata": {},
   "outputs": [
    {
     "data": {
      "text/plain": [
       "0.25     9.99\n",
       "0.50    19.09\n",
       "0.75    45.99\n",
       "Name: price, dtype: float64"
      ]
     },
     "execution_count": 22,
     "metadata": {},
     "output_type": "execute_result"
    }
   ],
   "source": [
    "quantiles_price"
   ]
  },
  {
   "cell_type": "code",
   "execution_count": 23,
   "metadata": {},
   "outputs": [
    {
     "data": {
      "text/plain": [
       "(27.492977566280338, 4241.616412866518)"
      ]
     },
     "execution_count": 23,
     "metadata": {},
     "output_type": "execute_result"
    }
   ],
   "source": [
    "skewness_price = df['price'].skew()\n",
    "kurtosis_price = df['price'].kurtosis()\n",
    "\n",
    "skewness_price, kurtosis_price"
   ]
  },
  {
   "cell_type": "code",
   "execution_count": 24,
   "metadata": {},
   "outputs": [
    {
     "data": {
      "text/plain": [
       "<Axes: xlabel='price', ylabel='Count'>"
      ]
     },
     "execution_count": 24,
     "metadata": {},
     "output_type": "execute_result"
    },
    {
     "data": {
      "image/png": "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",
      "text/plain": [
       "<Figure size 640x480 with 1 Axes>"
      ]
     },
     "metadata": {},
     "output_type": "display_data"
    }
   ],
   "source": [
    "sns.histplot(df['price'], kde=True, bins=10, color=\"salmon\")"
   ]
  },
  {
   "cell_type": "code",
   "execution_count": 25,
   "metadata": {},
   "outputs": [],
   "source": [
    "#because of the outliers, the graph is not lisible"
   ]
  },
  {
   "cell_type": "code",
   "execution_count": 26,
   "metadata": {},
   "outputs": [
    {
     "data": {
      "text/plain": [
       "<Axes: ylabel='price'>"
      ]
     },
     "execution_count": 26,
     "metadata": {},
     "output_type": "execute_result"
    },
    {
     "data": {
      "image/png": "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",
      "text/plain": [
       "<Figure size 640x480 with 1 Axes>"
      ]
     },
     "metadata": {},
     "output_type": "display_data"
    }
   ],
   "source": [
    "sns.boxplot(data = df['price'], color=\"lightblue\")"
   ]
  },
  {
   "cell_type": "code",
   "execution_count": 27,
   "metadata": {},
   "outputs": [],
   "source": [
    "#Part 3: Unpacking Product Ratings\n",
    "#Business Question: How do customers rate products on Amazon UK, and are there any patterns or tendencies in the ratings?\n",
    "\n",
    "#Measures of Centrality:\n",
    "#Calculate the mean, median, and mode for the rating of products.\n",
    "#How do customers generally rate products? Is there a common trend?\n",
    "\n",
    "#Measures of Dispersion:\n",
    "#Determine the variance, standard deviation, and interquartile range for product rating.\n",
    "#Are the ratings consistent, or is there a wide variation in customer feedback?\n",
    "\n",
    "#Shape of the Distribution:\n",
    "\n",
    "#Calculate the skewness and kurtosis for the rating column.\n",
    "#Are the ratings normally distributed, or do they lean towards higher or lower values?\n",
    "\n",
    "#Visualizations:\n",
    "\n",
    "#Plot a histogram to visualize the distribution of product ratings. Is there a specific rating that is more common?"
   ]
  },
  {
   "cell_type": "code",
   "execution_count": 28,
   "metadata": {},
   "outputs": [
    {
     "data": {
      "text/plain": [
       "stars\n",
       "0.0    1225641\n",
       "4.5     151577\n",
       "4.6     136995\n",
       "4.4     136165\n",
       "5.0     128492\n",
       "4.3     112564\n",
       "4.7      94566\n",
       "4.2      86871\n",
       "4.0      66089\n",
       "4.1      65115\n",
       "4.8      41858\n",
       "3.9      36555\n",
       "3.8      27876\n",
       "3.7      21137\n",
       "3.6      16219\n",
       "3.5      14673\n",
       "3.0      12819\n",
       "4.9      11081\n",
       "3.4      10355\n",
       "1.0       8484\n",
       "3.3       8269\n",
       "3.2       5771\n",
       "3.1       4679\n",
       "2.0       3901\n",
       "2.9       3341\n",
       "2.8       2306\n",
       "2.7       2104\n",
       "2.5       2103\n",
       "2.6       1579\n",
       "2.4       1060\n",
       "2.3        734\n",
       "2.2        602\n",
       "2.1        540\n",
       "1.5        404\n",
       "1.9        300\n",
       "1.8        249\n",
       "1.7        177\n",
       "1.4        149\n",
       "1.6        147\n",
       "1.3         78\n",
       "1.2         23\n",
       "1.1          3\n",
       "Name: count, dtype: int64"
      ]
     },
     "execution_count": 28,
     "metadata": {},
     "output_type": "execute_result"
    }
   ],
   "source": [
    "df.stars.value_counts()"
   ]
  },
  {
   "cell_type": "code",
   "execution_count": 29,
   "metadata": {},
   "outputs": [
    {
     "data": {
      "text/plain": [
       "stars\n",
       "4.5    151577\n",
       "4.6    136995\n",
       "4.4    136165\n",
       "5.0    128492\n",
       "4.3    112564\n",
       "4.7     94566\n",
       "4.2     86871\n",
       "4.0     66089\n",
       "4.1     65115\n",
       "4.8     41858\n",
       "3.9     36555\n",
       "3.8     27876\n",
       "3.7     21137\n",
       "3.6     16219\n",
       "3.5     14673\n",
       "3.0     12819\n",
       "4.9     11081\n",
       "3.4     10355\n",
       "1.0      8484\n",
       "3.3      8269\n",
       "3.2      5771\n",
       "3.1      4679\n",
       "2.0      3901\n",
       "2.9      3341\n",
       "2.8      2306\n",
       "2.7      2104\n",
       "2.5      2103\n",
       "2.6      1579\n",
       "2.4      1060\n",
       "2.3       734\n",
       "2.2       602\n",
       "2.1       540\n",
       "1.5       404\n",
       "1.9       300\n",
       "1.8       249\n",
       "1.7       177\n",
       "1.4       149\n",
       "1.6       147\n",
       "1.3        78\n",
       "1.2        23\n",
       "1.1         3\n",
       "Name: count, dtype: int64"
      ]
     },
     "execution_count": 29,
     "metadata": {},
     "output_type": "execute_result"
    }
   ],
   "source": [
    "filtered_stars = df[df['stars'] != 0]['stars']\n",
    "filtered_stars.value_counts()"
   ]
  },
  {
   "cell_type": "code",
   "execution_count": 30,
   "metadata": {},
   "outputs": [
    {
     "data": {
      "text/plain": [
       "4.31916076222691"
      ]
     },
     "execution_count": 30,
     "metadata": {},
     "output_type": "execute_result"
    }
   ],
   "source": [
    "filtered_stars.mean()"
   ]
  },
  {
   "cell_type": "code",
   "execution_count": 31,
   "metadata": {},
   "outputs": [
    {
     "data": {
      "text/plain": [
       "4.4"
      ]
     },
     "execution_count": 31,
     "metadata": {},
     "output_type": "execute_result"
    }
   ],
   "source": [
    "filtered_stars.median()"
   ]
  },
  {
   "cell_type": "code",
   "execution_count": 32,
   "metadata": {},
   "outputs": [
    {
     "data": {
      "text/plain": [
       "0    4.5\n",
       "Name: stars, dtype: float64"
      ]
     },
     "execution_count": 32,
     "metadata": {},
     "output_type": "execute_result"
    }
   ],
   "source": [
    "filtered_stars.mode()"
   ]
  },
  {
   "cell_type": "code",
   "execution_count": 33,
   "metadata": {},
   "outputs": [],
   "source": [
    "#it is left skewed distribution"
   ]
  },
  {
   "cell_type": "code",
   "execution_count": 34,
   "metadata": {},
   "outputs": [
    {
     "data": {
      "text/plain": [
       "0.30834337523872835"
      ]
     },
     "execution_count": 34,
     "metadata": {},
     "output_type": "execute_result"
    }
   ],
   "source": [
    "filtered_stars.var()"
   ]
  },
  {
   "cell_type": "code",
   "execution_count": 35,
   "metadata": {},
   "outputs": [
    {
     "data": {
      "text/plain": [
       "0.5552867504620729"
      ]
     },
     "execution_count": 35,
     "metadata": {},
     "output_type": "execute_result"
    }
   ],
   "source": [
    "filtered_stars.std()"
   ]
  },
  {
   "cell_type": "code",
   "execution_count": 36,
   "metadata": {},
   "outputs": [
    {
     "data": {
      "text/plain": [
       "0.25    4.1\n",
       "0.50    4.4\n",
       "0.75    4.6\n",
       "Name: stars, dtype: float64"
      ]
     },
     "execution_count": 36,
     "metadata": {},
     "output_type": "execute_result"
    }
   ],
   "source": [
    "\n",
    "quantiles_stars = filtered_stars.quantile([0.25, 0.5, 0.75])\n",
    "quantiles_stars"
   ]
  },
  {
   "cell_type": "code",
   "execution_count": 39,
   "metadata": {},
   "outputs": [
    {
     "data": {
      "text/plain": [
       "(-2.3795681122127945, 9.78193769066435)"
      ]
     },
     "execution_count": 39,
     "metadata": {},
     "output_type": "execute_result"
    }
   ],
   "source": [
    "skewness_stars = filtered_stars.skew()\n",
    "kurtosis_stars = filtered_stars.kurtosis()\n",
    "\n",
    "skewness_stars, kurtosis_stars"
   ]
  },
  {
   "cell_type": "code",
   "execution_count": 38,
   "metadata": {},
   "outputs": [
    {
     "data": {
      "text/plain": [
       "<Axes: xlabel='stars', ylabel='Count'>"
      ]
     },
     "execution_count": 38,
     "metadata": {},
     "output_type": "execute_result"
    },
    {
     "data": {
      "image/png": "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",
      "text/plain": [
       "<Figure size 640x480 with 1 Axes>"
      ]
     },
     "metadata": {},
     "output_type": "display_data"
    }
   ],
   "source": [
    "sns.histplot(filtered_stars, kde=True, bins=10, color=\"salmon\")"
   ]
  },
  {
   "cell_type": "code",
   "execution_count": null,
   "metadata": {},
   "outputs": [],
   "source": []
  }
 ],
 "metadata": {
  "kernelspec": {
   "display_name": "Python 3",
   "language": "python",
   "name": "python3"
  },
  "language_info": {
   "codemirror_mode": {
    "name": "ipython",
    "version": 3
   },
   "file_extension": ".py",
   "mimetype": "text/x-python",
   "name": "python",
   "nbconvert_exporter": "python",
   "pygments_lexer": "ipython3",
   "version": "3.9.6"
  }
 },
 "nbformat": 4,
 "nbformat_minor": 2
}
                